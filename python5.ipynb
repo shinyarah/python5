{
  "cells": [
    {
      "cell_type": "markdown",
      "metadata": {
        "id": "view-in-github",
        "colab_type": "text"
      },
      "source": [
        "<a href=\"https://colab.research.google.com/github/shinyarah/python5/blob/main/python5.ipynb\" target=\"_parent\"><img src=\"https://colab.research.google.com/assets/colab-badge.svg\" alt=\"Open In Colab\"/></a>"
      ]
    },
    {
      "cell_type": "code",
      "execution_count": 2,
      "metadata": {
        "colab": {
          "base_uri": "https://localhost:8080/"
        },
        "id": "LmCK-Lla6-vf",
        "outputId": "c2eb78d1-4ce8-4d3c-e29d-cca0a4cdcbdd"
      },
      "outputs": [
        {
          "output_type": "stream",
          "name": "stdout",
          "text": [
            "24\n",
            "70\n",
            "-30\n"
          ]
        }
      ],
      "source": [
        "def add_without_plus_operator(a, b):\n",
        "    while b != 0:\n",
        "        data = a & b\n",
        "        a = a ^ b\n",
        "        b = data << 1\n",
        "    return a\n",
        "print(add_without_plus_operator(5, 19))\n",
        "print(add_without_plus_operator(20, 50))\n",
        "print(add_without_plus_operator(-10, -20))"
      ]
    },
    {
      "cell_type": "code",
      "source": [
        "# function to check the priority of operators\n",
        "def check_priority(op1, op2):\n",
        "    if op1 == '+' or op1 == '-':\n",
        "        if op2 == '+' or op2 == '-' or op2 == '*' or op2 == '/':\n",
        "            return False\n",
        "    if op1 == '*' or op1 == '/':\n",
        "        if op2 == '*' or op2 == '/':\n",
        "            return False\n",
        "    return True\n",
        "\n",
        "# test the function\n",
        "op1 = '+'\n",
        "op2 = '*'\n",
        "print(check_priority(op1, op2)) #False\n"
      ],
      "metadata": {
        "colab": {
          "base_uri": "https://localhost:8080/"
        },
        "id": "RnOr00N_807w",
        "outputId": "bbeb594d-31bf-4eb6-9022-52053f1fd8ff"
      },
      "execution_count": 3,
      "outputs": [
        {
          "output_type": "stream",
          "name": "stdout",
          "text": [
            "False\n"
          ]
        }
      ]
    },
    {
      "cell_type": "code",
      "execution_count": null,
      "metadata": {
        "id": "Ff3p05Ql6-Gp"
      },
      "outputs": [],
      "source": []
    }
  ],
  "metadata": {
    "colab": {
      "provenance": [],
      "authorship_tag": "ABX9TyPjeSNu1U0VaLBTwJSpsp5w",
      "include_colab_link": true
    },
    "kernelspec": {
      "display_name": "Python 3",
      "name": "python3"
    },
    "language_info": {
      "name": "python"
    }
  },
  "nbformat": 4,
  "nbformat_minor": 0
}